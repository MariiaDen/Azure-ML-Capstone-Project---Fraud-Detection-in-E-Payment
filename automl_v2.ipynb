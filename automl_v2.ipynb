{
 "cells": [
  {
   "cell_type": "markdown",
   "metadata": {},
   "source": [
    "# Automated ML\n",
    "\n",
    "TODO: Import Dependencies. In the cell below, import all the dependencies that you will need to complete the project."
   ]
  },
  {
   "cell_type": "code",
   "execution_count": null,
   "metadata": {
    "gather": {
     "logged": 1598423888013
    },
    "jupyter": {
     "outputs_hidden": false,
     "source_hidden": false
    },
    "nteract": {
     "transient": {
      "deleting": false
     }
    }
   },
   "outputs": [],
   "source": []
  },
  {
   "cell_type": "markdown",
   "metadata": {},
   "source": [
    "## Dataset\n",
    "\n",
    "### Overview\n",
    "TODO: In this markdown cell, give an overview of the dataset you are using. Also mention the task you will be performing.\n",
    "\n",
    "\n",
    "TODO: Get data. In the cell below, write code to access the data you will be using in this project. Remember that the dataset needs to be external."
   ]
  },
  {
   "cell_type": "code",
   "execution_count": 4,
   "metadata": {
    "gather": {
     "logged": 1598423890461
    },
    "jupyter": {
     "outputs_hidden": false,
     "source_hidden": false
    },
    "nteract": {
     "transient": {
      "deleting": false
     }
    }
   },
   "outputs": [
    {
     "name": "stdout",
     "output_type": "stream",
     "text": [
      "Workspace name: quick-starts-ws-136663\n",
      "Azure region: southcentralus\n",
      "Subscription id: f5091c60-1c3c-430f-8d81-d802f6bf2414\n",
      "Resource group: aml-quickstarts-136663\n"
     ]
    }
   ],
   "source": [
    "from azureml.core import Workspace, Experiment\n",
    "\n",
    "subscription_id = 'f5091c60-1c3c-430f-8d81-d802f6bf2414'\n",
    "resource_group = 'aml-quickstarts-136663'\n",
    "workspace_name = 'quick-starts-ws-136663'\n",
    "\n",
    "ws = Workspace(subscription_id, resource_group, workspace_name)\n",
    "\n",
    "# choose a name for experiment\n",
    "experiment_name = 'lab3-experiment'\n",
    "\n",
    "exp = Experiment(workspace=ws, name=experiment_name)\n",
    "\n",
    "print('Workspace name: ' + ws.name, \n",
    "      'Azure region: ' + ws.location, \n",
    "      'Subscription id: ' + ws.subscription_id, \n",
    "      'Resource group: ' + ws.resource_group, sep = '\\n')\n",
    "\n",
    "run = exp.start_logging()"
   ]
  },
  {
   "cell_type": "code",
   "execution_count": 5,
   "metadata": {},
   "outputs": [
    {
     "name": "stdout",
     "output_type": "stream",
     "text": [
      "creditcard\n",
      "Bank-marketing\n"
     ]
    }
   ],
   "source": [
    "for ds in ws.datasets:\n",
    "    print(ds)"
   ]
  },
  {
   "cell_type": "code",
   "execution_count": 6,
   "metadata": {},
   "outputs": [
    {
     "data": {
      "text/plain": [
       "{\n",
       "  \"source\": [\n",
       "    \"('workspaceblobstore', 'UI/01-31-2021_121405_UTC/creditcard.csv')\"\n",
       "  ],\n",
       "  \"definition\": [\n",
       "    \"GetDatastoreFiles\",\n",
       "    \"ParseDelimited\",\n",
       "    \"DropColumns\",\n",
       "    \"SetColumnTypes\"\n",
       "  ],\n",
       "  \"registration\": {\n",
       "    \"id\": \"b243f81e-19d2-49e5-9636-cf000b22e776\",\n",
       "    \"name\": \"creditcard\",\n",
       "    \"version\": 1,\n",
       "    \"workspace\": \"Workspace.create(name='quick-starts-ws-136663', subscription_id='f5091c60-1c3c-430f-8d81-d802f6bf2414', resource_group='aml-quickstarts-136663')\"\n",
       "  }\n",
       "}"
      ]
     },
     "execution_count": 6,
     "metadata": {},
     "output_type": "execute_result"
    }
   ],
   "source": [
    "dataset = ws.datasets[\"creditcard\"]\n",
    "dataset"
   ]
  },
  {
   "cell_type": "markdown",
   "metadata": {},
   "source": [
    "## AutoML Configuration\n",
    "\n",
    "TODO: Explain why you chose the automl settings and cofiguration you used below."
   ]
  },
  {
   "cell_type": "code",
   "execution_count": 7,
   "metadata": {},
   "outputs": [
    {
     "name": "stdout",
     "output_type": "stream",
     "text": [
      "The cluster already exists\n",
      "Succeeded\n",
      "AmlCompute wait for completion finished\n",
      "\n",
      "Minimum number of nodes requested have been provisioned\n"
     ]
    }
   ],
   "source": [
    "from azureml.core.compute import ComputeTarget, AmlCompute\n",
    "\n",
    "# the code sninppet is based on official Microsoft documentation, which can be found\n",
    "# here -> https://docs.microsoft.com/en-us/azure/machine-learning/how-to-create-attach-compute-cluster?tabs=python\n",
    "from azureml.core.compute_target import ComputeTargetException\n",
    "\n",
    "# A name for the cluster\n",
    "cpu_cluster_name = \"lab3-cluster\"\n",
    "\n",
    "# Verification that cluster does not exist yet\n",
    "try:\n",
    "    cpu_cluster = ComputeTarget(workspace=ws, name=cpu_cluster_name)\n",
    "    print('The cluster already exists')\n",
    "except ComputeTargetException:\n",
    "    compute_config = AmlCompute.provisioning_configuration(vm_size='STANDARD_D2_V2', max_nodes=4)\n",
    "    cpu_cluster = ComputeTarget.create(ws, cpu_cluster_name, compute_config)\n",
    "\n",
    "cpu_cluster.wait_for_completion(show_output=True)"
   ]
  },
  {
   "cell_type": "code",
   "execution_count": 8,
   "metadata": {
    "gather": {
     "logged": 1598429217746
    },
    "jupyter": {
     "outputs_hidden": false,
     "source_hidden": false
    },
    "nteract": {
     "transient": {
      "deleting": false
     }
    }
   },
   "outputs": [],
   "source": [
    "from azureml.train.automl import AutoMLConfig\n",
    "\n",
    "# TODO: Put your automl settings here\n",
    "automl_settings = {}\n",
    "\n",
    "# TODO: Put your automl config here\n",
    "automl_config = AutoMLConfig(\n",
    "    experiment_timeout_minutes=30,\n",
    "    task=\"classification\",\n",
    "    primary_metric=\"accuracy\",\n",
    "    training_data=dataset,\n",
    "    label_column_name=\"Class\",\n",
    "    n_cross_validations=5,\n",
    "    compute_target=cpu_cluster)"
   ]
  },
  {
   "cell_type": "code",
   "execution_count": 9,
   "metadata": {
    "gather": {
     "logged": 1598431107951
    },
    "jupyter": {
     "outputs_hidden": false,
     "source_hidden": false
    },
    "nteract": {
     "transient": {
      "deleting": false
     }
    }
   },
   "outputs": [
    {
     "name": "stdout",
     "output_type": "stream",
     "text": [
      "Running on remote.\n"
     ]
    }
   ],
   "source": [
    "# TODO: Submit your experiment\n",
    "remote_run = exp.submit(automl_config)"
   ]
  },
  {
   "cell_type": "markdown",
   "metadata": {},
   "source": [
    "## Run Details\n",
    "\n",
    "OPTIONAL: Write about the different models trained and their performance. Why do you think some models did better than others?\n",
    "\n",
    "TODO: In the cell below, use the `RunDetails` widget to show the different experiments."
   ]
  },
  {
   "cell_type": "code",
   "execution_count": 10,
   "metadata": {
    "gather": {
     "logged": 1598431121770
    },
    "jupyter": {
     "outputs_hidden": false,
     "source_hidden": false
    },
    "nteract": {
     "transient": {
      "deleting": false
     }
    }
   },
   "outputs": [
    {
     "data": {
      "application/vnd.jupyter.widget-view+json": {
       "model_id": "b2267e3f1f64412b8514ecfa9dbf6aae",
       "version_major": 2,
       "version_minor": 0
      },
      "text/plain": [
       "_AutoMLWidget(widget_settings={'childWidgetDisplay': 'popup', 'send_telemetry': False, 'log_level': 'INFO', 's…"
      ]
     },
     "metadata": {},
     "output_type": "display_data"
    },
    {
     "data": {
      "application/aml.mini.widget.v1": "{\"status\": \"Completed\", \"workbench_run_details_uri\": \"https://ml.azure.com/experiments/lab3-experiment/runs/AutoML_28ca192b-abc5-4b5c-a8af-d42fe2867002?wsid=/subscriptions/f5091c60-1c3c-430f-8d81-d802f6bf2414/resourcegroups/aml-quickstarts-136663/workspaces/quick-starts-ws-136663\", \"run_id\": \"AutoML_28ca192b-abc5-4b5c-a8af-d42fe2867002\", \"run_properties\": {\"run_id\": \"AutoML_28ca192b-abc5-4b5c-a8af-d42fe2867002\", \"created_utc\": \"2021-01-31T00:32:26.683479Z\", \"properties\": {\"num_iterations\": \"1000\", \"training_type\": \"TrainFull\", \"acquisition_function\": \"EI\", \"primary_metric\": \"accuracy\", \"train_split\": \"0\", \"acquisition_parameter\": \"0\", \"num_cross_validation\": \"5\", \"target\": \"lab3-cluster\", \"AMLSettingsJsonString\": \"{\\\"path\\\":null,\\\"name\\\":\\\"lab3-experiment\\\",\\\"subscription_id\\\":\\\"f5091c60-1c3c-430f-8d81-d802f6bf2414\\\",\\\"resource_group\\\":\\\"aml-quickstarts-136663\\\",\\\"workspace_name\\\":\\\"quick-starts-ws-136663\\\",\\\"region\\\":\\\"southcentralus\\\",\\\"compute_target\\\":\\\"lab3-cluster\\\",\\\"spark_service\\\":null,\\\"azure_service\\\":\\\"remote\\\",\\\"many_models\\\":false,\\\"pipeline_fetch_max_batch_size\\\":1,\\\"iterations\\\":1000,\\\"primary_metric\\\":\\\"accuracy\\\",\\\"task_type\\\":\\\"classification\\\",\\\"data_script\\\":null,\\\"validation_size\\\":0.0,\\\"n_cross_validations\\\":5,\\\"y_min\\\":null,\\\"y_max\\\":null,\\\"num_classes\\\":null,\\\"featurization\\\":\\\"auto\\\",\\\"_ignore_package_version_incompatibilities\\\":false,\\\"is_timeseries\\\":false,\\\"max_cores_per_iteration\\\":1,\\\"max_concurrent_iterations\\\":1,\\\"iteration_timeout_minutes\\\":null,\\\"mem_in_mb\\\":null,\\\"enforce_time_on_windows\\\":false,\\\"experiment_timeout_minutes\\\":30,\\\"experiment_exit_score\\\":null,\\\"whitelist_models\\\":null,\\\"blacklist_algos\\\":[\\\"TensorFlowLinearClassifier\\\",\\\"TensorFlowDNN\\\"],\\\"supported_models\\\":[\\\"LightGBM\\\",\\\"BernoulliNaiveBayes\\\",\\\"LogisticRegression\\\",\\\"SVM\\\",\\\"RandomForest\\\",\\\"GradientBoosting\\\",\\\"TensorFlowLinearClassifier\\\",\\\"DecisionTree\\\",\\\"LinearSVM\\\",\\\"SGD\\\",\\\"AveragedPerceptronClassifier\\\",\\\"KNN\\\",\\\"XGBoostClassifier\\\",\\\"ExtremeRandomTrees\\\",\\\"MultinomialNaiveBayes\\\",\\\"TensorFlowDNN\\\"],\\\"auto_blacklist\\\":true,\\\"blacklist_samples_reached\\\":false,\\\"exclude_nan_labels\\\":true,\\\"verbosity\\\":20,\\\"_debug_log\\\":\\\"azureml_automl.log\\\",\\\"show_warnings\\\":false,\\\"model_explainability\\\":true,\\\"service_url\\\":null,\\\"sdk_url\\\":null,\\\"sdk_packages\\\":null,\\\"enable_onnx_compatible_models\\\":false,\\\"enable_split_onnx_featurizer_estimator_models\\\":false,\\\"vm_type\\\":\\\"STANDARD_D2_V2\\\",\\\"telemetry_verbosity\\\":20,\\\"send_telemetry\\\":true,\\\"enable_dnn\\\":false,\\\"scenario\\\":\\\"SDK-1.13.0\\\",\\\"environment_label\\\":null,\\\"force_text_dnn\\\":false,\\\"enable_feature_sweeping\\\":true,\\\"enable_early_stopping\\\":false,\\\"early_stopping_n_iters\\\":10,\\\"metrics\\\":null,\\\"enable_ensembling\\\":true,\\\"enable_stack_ensembling\\\":true,\\\"ensemble_iterations\\\":15,\\\"enable_tf\\\":false,\\\"enable_subsampling\\\":null,\\\"subsample_seed\\\":null,\\\"enable_nimbusml\\\":false,\\\"enable_streaming\\\":false,\\\"force_streaming\\\":false,\\\"track_child_runs\\\":true,\\\"allowed_private_models\\\":[],\\\"label_column_name\\\":\\\"Class\\\",\\\"weight_column_name\\\":null,\\\"cv_split_column_names\\\":null,\\\"enable_local_managed\\\":false,\\\"_local_managed_run_id\\\":null,\\\"cost_mode\\\":1,\\\"lag_length\\\":0,\\\"metric_operation\\\":\\\"maximize\\\",\\\"preprocess\\\":true}\", \"DataPrepJsonString\": \"{\\\\\\\"training_data\\\\\\\": \\\\\\\"{\\\\\\\\\\\\\\\"blocks\\\\\\\\\\\\\\\": [{\\\\\\\\\\\\\\\"id\\\\\\\\\\\\\\\": \\\\\\\\\\\\\\\"bb0821a3-1cbb-4d95-ac4d-2a1a57fdeae9\\\\\\\\\\\\\\\", \\\\\\\\\\\\\\\"type\\\\\\\\\\\\\\\": \\\\\\\\\\\\\\\"Microsoft.DPrep.GetDatastoreFilesBlock\\\\\\\\\\\\\\\", \\\\\\\\\\\\\\\"arguments\\\\\\\\\\\\\\\": {\\\\\\\\\\\\\\\"datastores\\\\\\\\\\\\\\\": [{\\\\\\\\\\\\\\\"datastoreName\\\\\\\\\\\\\\\": \\\\\\\\\\\\\\\"workspaceblobstore\\\\\\\\\\\\\\\", \\\\\\\\\\\\\\\"path\\\\\\\\\\\\\\\": \\\\\\\\\\\\\\\"UI/01-31-2021_121405_UTC/creditcard.csv\\\\\\\\\\\\\\\", \\\\\\\\\\\\\\\"resourceGroup\\\\\\\\\\\\\\\": \\\\\\\\\\\\\\\"aml-quickstarts-136663\\\\\\\\\\\\\\\", \\\\\\\\\\\\\\\"subscription\\\\\\\\\\\\\\\": \\\\\\\\\\\\\\\"f5091c60-1c3c-430f-8d81-d802f6bf2414\\\\\\\\\\\\\\\", \\\\\\\\\\\\\\\"workspaceName\\\\\\\\\\\\\\\": \\\\\\\\\\\\\\\"quick-starts-ws-136663\\\\\\\\\\\\\\\"}]}, \\\\\\\\\\\\\\\"localData\\\\\\\\\\\\\\\": {}, \\\\\\\\\\\\\\\"isEnabled\\\\\\\\\\\\\\\": true, \\\\\\\\\\\\\\\"name\\\\\\\\\\\\\\\": null, \\\\\\\\\\\\\\\"annotation\\\\\\\\\\\\\\\": null}, {\\\\\\\\\\\\\\\"id\\\\\\\\\\\\\\\": \\\\\\\\\\\\\\\"e5cc8fb5-a4fb-4ef2-b986-3f13acf3bc0d\\\\\\\\\\\\\\\", \\\\\\\\\\\\\\\"type\\\\\\\\\\\\\\\": \\\\\\\\\\\\\\\"Microsoft.DPrep.ParseDelimitedBlock\\\\\\\\\\\\\\\", \\\\\\\\\\\\\\\"arguments\\\\\\\\\\\\\\\": {\\\\\\\\\\\\\\\"columnHeadersMode\\\\\\\\\\\\\\\": 1, \\\\\\\\\\\\\\\"fileEncoding\\\\\\\\\\\\\\\": 0, \\\\\\\\\\\\\\\"handleQuotedLineBreaks\\\\\\\\\\\\\\\": false, \\\\\\\\\\\\\\\"preview\\\\\\\\\\\\\\\": false, \\\\\\\\\\\\\\\"separator\\\\\\\\\\\\\\\": \\\\\\\\\\\\\\\",\\\\\\\\\\\\\\\", \\\\\\\\\\\\\\\"skipRows\\\\\\\\\\\\\\\": 0, \\\\\\\\\\\\\\\"skipRowsMode\\\\\\\\\\\\\\\": 0}, \\\\\\\\\\\\\\\"localData\\\\\\\\\\\\\\\": {}, \\\\\\\\\\\\\\\"isEnabled\\\\\\\\\\\\\\\": true, \\\\\\\\\\\\\\\"name\\\\\\\\\\\\\\\": null, \\\\\\\\\\\\\\\"annotation\\\\\\\\\\\\\\\": null}, {\\\\\\\\\\\\\\\"id\\\\\\\\\\\\\\\": \\\\\\\\\\\\\\\"37b86406-ec21-4829-8231-b4834569357d\\\\\\\\\\\\\\\", \\\\\\\\\\\\\\\"type\\\\\\\\\\\\\\\": \\\\\\\\\\\\\\\"Microsoft.DPrep.DropColumnsBlock\\\\\\\\\\\\\\\", \\\\\\\\\\\\\\\"arguments\\\\\\\\\\\\\\\": {\\\\\\\\\\\\\\\"columns\\\\\\\\\\\\\\\": {\\\\\\\\\\\\\\\"type\\\\\\\\\\\\\\\": 0, \\\\\\\\\\\\\\\"details\\\\\\\\\\\\\\\": {\\\\\\\\\\\\\\\"selectedColumns\\\\\\\\\\\\\\\": [\\\\\\\\\\\\\\\"Path\\\\\\\\\\\\\\\"]}}}, \\\\\\\\\\\\\\\"localData\\\\\\\\\\\\\\\": {}, \\\\\\\\\\\\\\\"isEnabled\\\\\\\\\\\\\\\": true, \\\\\\\\\\\\\\\"name\\\\\\\\\\\\\\\": null, \\\\\\\\\\\\\\\"annotation\\\\\\\\\\\\\\\": null}, {\\\\\\\\\\\\\\\"id\\\\\\\\\\\\\\\": \\\\\\\\\\\\\\\"f51ea67c-3dbb-40a3-9e5d-921c2ab09365\\\\\\\\\\\\\\\", \\\\\\\\\\\\\\\"type\\\\\\\\\\\\\\\": \\\\\\\\\\\\\\\"Microsoft.DPrep.SetColumnTypesBlock\\\\\\\\\\\\\\\", \\\\\\\\\\\\\\\"arguments\\\\\\\\\\\\\\\": {\\\\\\\\\\\\\\\"columnConversion\\\\\\\\\\\\\\\": [{\\\\\\\\\\\\\\\"column\\\\\\\\\\\\\\\": {\\\\\\\\\\\\\\\"type\\\\\\\\\\\\\\\": 2, \\\\\\\\\\\\\\\"details\\\\\\\\\\\\\\\": {\\\\\\\\\\\\\\\"selectedColumn\\\\\\\\\\\\\\\": \\\\\\\\\\\\\\\"Path\\\\\\\\\\\\\\\"}}, \\\\\\\\\\\\\\\"typeProperty\\\\\\\\\\\\\\\": 0}, {\\\\\\\\\\\\\\\"column\\\\\\\\\\\\\\\": {\\\\\\\\\\\\\\\"type\\\\\\\\\\\\\\\": 2, \\\\\\\\\\\\\\\"details\\\\\\\\\\\\\\\": {\\\\\\\\\\\\\\\"selectedColumn\\\\\\\\\\\\\\\": \\\\\\\\\\\\\\\"Time\\\\\\\\\\\\\\\"}}, \\\\\\\\\\\\\\\"typeProperty\\\\\\\\\\\\\\\": 2}, {\\\\\\\\\\\\\\\"column\\\\\\\\\\\\\\\": {\\\\\\\\\\\\\\\"type\\\\\\\\\\\\\\\": 2, \\\\\\\\\\\\\\\"details\\\\\\\\\\\\\\\": {\\\\\\\\\\\\\\\"selectedColumn\\\\\\\\\\\\\\\": \\\\\\\\\\\\\\\"V1\\\\\\\\\\\\\\\"}}, \\\\\\\\\\\\\\\"typeProperty\\\\\\\\\\\\\\\": 3}, {\\\\\\\\\\\\\\\"column\\\\\\\\\\\\\\\": {\\\\\\\\\\\\\\\"type\\\\\\\\\\\\\\\": 2, \\\\\\\\\\\\\\\"details\\\\\\\\\\\\\\\": {\\\\\\\\\\\\\\\"selectedColumn\\\\\\\\\\\\\\\": \\\\\\\\\\\\\\\"V2\\\\\\\\\\\\\\\"}}, \\\\\\\\\\\\\\\"typeProperty\\\\\\\\\\\\\\\": 3}, {\\\\\\\\\\\\\\\"column\\\\\\\\\\\\\\\": {\\\\\\\\\\\\\\\"type\\\\\\\\\\\\\\\": 2, \\\\\\\\\\\\\\\"details\\\\\\\\\\\\\\\": {\\\\\\\\\\\\\\\"selectedColumn\\\\\\\\\\\\\\\": \\\\\\\\\\\\\\\"V3\\\\\\\\\\\\\\\"}}, \\\\\\\\\\\\\\\"typeProperty\\\\\\\\\\\\\\\": 3}, {\\\\\\\\\\\\\\\"column\\\\\\\\\\\\\\\": {\\\\\\\\\\\\\\\"type\\\\\\\\\\\\\\\": 2, \\\\\\\\\\\\\\\"details\\\\\\\\\\\\\\\": {\\\\\\\\\\\\\\\"selectedColumn\\\\\\\\\\\\\\\": \\\\\\\\\\\\\\\"V4\\\\\\\\\\\\\\\"}}, \\\\\\\\\\\\\\\"typeProperty\\\\\\\\\\\\\\\": 3}, {\\\\\\\\\\\\\\\"column\\\\\\\\\\\\\\\": {\\\\\\\\\\\\\\\"type\\\\\\\\\\\\\\\": 2, \\\\\\\\\\\\\\\"details\\\\\\\\\\\\\\\": {\\\\\\\\\\\\\\\"selectedColumn\\\\\\\\\\\\\\\": \\\\\\\\\\\\\\\"V5\\\\\\\\\\\\\\\"}}, \\\\\\\\\\\\\\\"typeProperty\\\\\\\\\\\\\\\": 3}, {\\\\\\\\\\\\\\\"column\\\\\\\\\\\\\\\": {\\\\\\\\\\\\\\\"type\\\\\\\\\\\\\\\": 2, \\\\\\\\\\\\\\\"details\\\\\\\\\\\\\\\": {\\\\\\\\\\\\\\\"selectedColumn\\\\\\\\\\\\\\\": \\\\\\\\\\\\\\\"V6\\\\\\\\\\\\\\\"}}, \\\\\\\\\\\\\\\"typeProperty\\\\\\\\\\\\\\\": 3}, {\\\\\\\\\\\\\\\"column\\\\\\\\\\\\\\\": {\\\\\\\\\\\\\\\"type\\\\\\\\\\\\\\\": 2, \\\\\\\\\\\\\\\"details\\\\\\\\\\\\\\\": {\\\\\\\\\\\\\\\"selectedColumn\\\\\\\\\\\\\\\": \\\\\\\\\\\\\\\"V7\\\\\\\\\\\\\\\"}}, \\\\\\\\\\\\\\\"typeProperty\\\\\\\\\\\\\\\": 3}, {\\\\\\\\\\\\\\\"column\\\\\\\\\\\\\\\": {\\\\\\\\\\\\\\\"type\\\\\\\\\\\\\\\": 2, \\\\\\\\\\\\\\\"details\\\\\\\\\\\\\\\": {\\\\\\\\\\\\\\\"selectedColumn\\\\\\\\\\\\\\\": \\\\\\\\\\\\\\\"V8\\\\\\\\\\\\\\\"}}, \\\\\\\\\\\\\\\"typeProperty\\\\\\\\\\\\\\\": 3}, {\\\\\\\\\\\\\\\"column\\\\\\\\\\\\\\\": {\\\\\\\\\\\\\\\"type\\\\\\\\\\\\\\\": 2, \\\\\\\\\\\\\\\"details\\\\\\\\\\\\\\\": {\\\\\\\\\\\\\\\"selectedColumn\\\\\\\\\\\\\\\": \\\\\\\\\\\\\\\"V9\\\\\\\\\\\\\\\"}}, \\\\\\\\\\\\\\\"typeProperty\\\\\\\\\\\\\\\": 3}, {\\\\\\\\\\\\\\\"column\\\\\\\\\\\\\\\": {\\\\\\\\\\\\\\\"type\\\\\\\\\\\\\\\": 2, \\\\\\\\\\\\\\\"details\\\\\\\\\\\\\\\": {\\\\\\\\\\\\\\\"selectedColumn\\\\\\\\\\\\\\\": \\\\\\\\\\\\\\\"V10\\\\\\\\\\\\\\\"}}, \\\\\\\\\\\\\\\"typeProperty\\\\\\\\\\\\\\\": 3}, {\\\\\\\\\\\\\\\"column\\\\\\\\\\\\\\\": {\\\\\\\\\\\\\\\"type\\\\\\\\\\\\\\\": 2, \\\\\\\\\\\\\\\"details\\\\\\\\\\\\\\\": {\\\\\\\\\\\\\\\"selectedColumn\\\\\\\\\\\\\\\": \\\\\\\\\\\\\\\"V11\\\\\\\\\\\\\\\"}}, \\\\\\\\\\\\\\\"typeProperty\\\\\\\\\\\\\\\": 3}, {\\\\\\\\\\\\\\\"column\\\\\\\\\\\\\\\": {\\\\\\\\\\\\\\\"type\\\\\\\\\\\\\\\": 2, \\\\\\\\\\\\\\\"details\\\\\\\\\\\\\\\": {\\\\\\\\\\\\\\\"selectedColumn\\\\\\\\\\\\\\\": \\\\\\\\\\\\\\\"V12\\\\\\\\\\\\\\\"}}, \\\\\\\\\\\\\\\"typeProperty\\\\\\\\\\\\\\\": 3}, {\\\\\\\\\\\\\\\"column\\\\\\\\\\\\\\\": {\\\\\\\\\\\\\\\"type\\\\\\\\\\\\\\\": 2, \\\\\\\\\\\\\\\"details\\\\\\\\\\\\\\\": {\\\\\\\\\\\\\\\"selectedColumn\\\\\\\\\\\\\\\": \\\\\\\\\\\\\\\"V13\\\\\\\\\\\\\\\"}}, \\\\\\\\\\\\\\\"typeProperty\\\\\\\\\\\\\\\": 3}, {\\\\\\\\\\\\\\\"column\\\\\\\\\\\\\\\": {\\\\\\\\\\\\\\\"type\\\\\\\\\\\\\\\": 2, \\\\\\\\\\\\\\\"details\\\\\\\\\\\\\\\": {\\\\\\\\\\\\\\\"selectedColumn\\\\\\\\\\\\\\\": \\\\\\\\\\\\\\\"V14\\\\\\\\\\\\\\\"}}, \\\\\\\\\\\\\\\"typeProperty\\\\\\\\\\\\\\\": 3}, {\\\\\\\\\\\\\\\"column\\\\\\\\\\\\\\\": {\\\\\\\\\\\\\\\"type\\\\\\\\\\\\\\\": 2, \\\\\\\\\\\\\\\"details\\\\\\\\\\\\\\\": {\\\\\\\\\\\\\\\"selectedColumn\\\\\\\\\\\\\\\": \\\\\\\\\\\\\\\"V15\\\\\\\\\\\\\\\"}}, \\\\\\\\\\\\\\\"typeProperty\\\\\\\\\\\\\\\": 3}, {\\\\\\\\\\\\\\\"column\\\\\\\\\\\\\\\": {\\\\\\\\\\\\\\\"type\\\\\\\\\\\\\\\": 2, \\\\\\\\\\\\\\\"details\\\\\\\\\\\\\\\": {\\\\\\\\\\\\\\\"selectedColumn\\\\\\\\\\\\\\\": \\\\\\\\\\\\\\\"V16\\\\\\\\\\\\\\\"}}, \\\\\\\\\\\\\\\"typeProperty\\\\\\\\\\\\\\\": 3}, {\\\\\\\\\\\\\\\"column\\\\\\\\\\\\\\\": {\\\\\\\\\\\\\\\"type\\\\\\\\\\\\\\\": 2, \\\\\\\\\\\\\\\"details\\\\\\\\\\\\\\\": {\\\\\\\\\\\\\\\"selectedColumn\\\\\\\\\\\\\\\": \\\\\\\\\\\\\\\"V17\\\\\\\\\\\\\\\"}}, \\\\\\\\\\\\\\\"typeProperty\\\\\\\\\\\\\\\": 3}, {\\\\\\\\\\\\\\\"column\\\\\\\\\\\\\\\": {\\\\\\\\\\\\\\\"type\\\\\\\\\\\\\\\": 2, \\\\\\\\\\\\\\\"details\\\\\\\\\\\\\\\": {\\\\\\\\\\\\\\\"selectedColumn\\\\\\\\\\\\\\\": \\\\\\\\\\\\\\\"V18\\\\\\\\\\\\\\\"}}, \\\\\\\\\\\\\\\"typeProperty\\\\\\\\\\\\\\\": 3}, {\\\\\\\\\\\\\\\"column\\\\\\\\\\\\\\\": {\\\\\\\\\\\\\\\"type\\\\\\\\\\\\\\\": 2, \\\\\\\\\\\\\\\"details\\\\\\\\\\\\\\\": {\\\\\\\\\\\\\\\"selectedColumn\\\\\\\\\\\\\\\": \\\\\\\\\\\\\\\"V19\\\\\\\\\\\\\\\"}}, \\\\\\\\\\\\\\\"typeProperty\\\\\\\\\\\\\\\": 3}, {\\\\\\\\\\\\\\\"column\\\\\\\\\\\\\\\": {\\\\\\\\\\\\\\\"type\\\\\\\\\\\\\\\": 2, \\\\\\\\\\\\\\\"details\\\\\\\\\\\\\\\": {\\\\\\\\\\\\\\\"selectedColumn\\\\\\\\\\\\\\\": \\\\\\\\\\\\\\\"V20\\\\\\\\\\\\\\\"}}, \\\\\\\\\\\\\\\"typeProperty\\\\\\\\\\\\\\\": 3}, {\\\\\\\\\\\\\\\"column\\\\\\\\\\\\\\\": {\\\\\\\\\\\\\\\"type\\\\\\\\\\\\\\\": 2, \\\\\\\\\\\\\\\"details\\\\\\\\\\\\\\\": {\\\\\\\\\\\\\\\"selectedColumn\\\\\\\\\\\\\\\": \\\\\\\\\\\\\\\"V21\\\\\\\\\\\\\\\"}}, \\\\\\\\\\\\\\\"typeProperty\\\\\\\\\\\\\\\": 3}, {\\\\\\\\\\\\\\\"column\\\\\\\\\\\\\\\": {\\\\\\\\\\\\\\\"type\\\\\\\\\\\\\\\": 2, \\\\\\\\\\\\\\\"details\\\\\\\\\\\\\\\": {\\\\\\\\\\\\\\\"selectedColumn\\\\\\\\\\\\\\\": \\\\\\\\\\\\\\\"V22\\\\\\\\\\\\\\\"}}, \\\\\\\\\\\\\\\"typeProperty\\\\\\\\\\\\\\\": 3}, {\\\\\\\\\\\\\\\"column\\\\\\\\\\\\\\\": {\\\\\\\\\\\\\\\"type\\\\\\\\\\\\\\\": 2, \\\\\\\\\\\\\\\"details\\\\\\\\\\\\\\\": {\\\\\\\\\\\\\\\"selectedColumn\\\\\\\\\\\\\\\": \\\\\\\\\\\\\\\"V23\\\\\\\\\\\\\\\"}}, \\\\\\\\\\\\\\\"typeProperty\\\\\\\\\\\\\\\": 3}, {\\\\\\\\\\\\\\\"column\\\\\\\\\\\\\\\": {\\\\\\\\\\\\\\\"type\\\\\\\\\\\\\\\": 2, \\\\\\\\\\\\\\\"details\\\\\\\\\\\\\\\": {\\\\\\\\\\\\\\\"selectedColumn\\\\\\\\\\\\\\\": \\\\\\\\\\\\\\\"V24\\\\\\\\\\\\\\\"}}, \\\\\\\\\\\\\\\"typeProperty\\\\\\\\\\\\\\\": 3}, {\\\\\\\\\\\\\\\"column\\\\\\\\\\\\\\\": {\\\\\\\\\\\\\\\"type\\\\\\\\\\\\\\\": 2, \\\\\\\\\\\\\\\"details\\\\\\\\\\\\\\\": {\\\\\\\\\\\\\\\"selectedColumn\\\\\\\\\\\\\\\": \\\\\\\\\\\\\\\"V25\\\\\\\\\\\\\\\"}}, \\\\\\\\\\\\\\\"typeProperty\\\\\\\\\\\\\\\": 3}, {\\\\\\\\\\\\\\\"column\\\\\\\\\\\\\\\": {\\\\\\\\\\\\\\\"type\\\\\\\\\\\\\\\": 2, \\\\\\\\\\\\\\\"details\\\\\\\\\\\\\\\": {\\\\\\\\\\\\\\\"selectedColumn\\\\\\\\\\\\\\\": \\\\\\\\\\\\\\\"V26\\\\\\\\\\\\\\\"}}, \\\\\\\\\\\\\\\"typeProperty\\\\\\\\\\\\\\\": 3}, {\\\\\\\\\\\\\\\"column\\\\\\\\\\\\\\\": {\\\\\\\\\\\\\\\"type\\\\\\\\\\\\\\\": 2, \\\\\\\\\\\\\\\"details\\\\\\\\\\\\\\\": {\\\\\\\\\\\\\\\"selectedColumn\\\\\\\\\\\\\\\": \\\\\\\\\\\\\\\"V27\\\\\\\\\\\\\\\"}}, \\\\\\\\\\\\\\\"typeProperty\\\\\\\\\\\\\\\": 3}, {\\\\\\\\\\\\\\\"column\\\\\\\\\\\\\\\": {\\\\\\\\\\\\\\\"type\\\\\\\\\\\\\\\": 2, \\\\\\\\\\\\\\\"details\\\\\\\\\\\\\\\": {\\\\\\\\\\\\\\\"selectedColumn\\\\\\\\\\\\\\\": \\\\\\\\\\\\\\\"V28\\\\\\\\\\\\\\\"}}, \\\\\\\\\\\\\\\"typeProperty\\\\\\\\\\\\\\\": 3}, {\\\\\\\\\\\\\\\"column\\\\\\\\\\\\\\\": {\\\\\\\\\\\\\\\"type\\\\\\\\\\\\\\\": 2, \\\\\\\\\\\\\\\"details\\\\\\\\\\\\\\\": {\\\\\\\\\\\\\\\"selectedColumn\\\\\\\\\\\\\\\": \\\\\\\\\\\\\\\"Amount\\\\\\\\\\\\\\\"}}, \\\\\\\\\\\\\\\"typeProperty\\\\\\\\\\\\\\\": 3}, {\\\\\\\\\\\\\\\"column\\\\\\\\\\\\\\\": {\\\\\\\\\\\\\\\"type\\\\\\\\\\\\\\\": 2, \\\\\\\\\\\\\\\"details\\\\\\\\\\\\\\\": {\\\\\\\\\\\\\\\"selectedColumn\\\\\\\\\\\\\\\": \\\\\\\\\\\\\\\"Class\\\\\\\\\\\\\\\"}}, \\\\\\\\\\\\\\\"typeProperty\\\\\\\\\\\\\\\": 2}]}, \\\\\\\\\\\\\\\"localData\\\\\\\\\\\\\\\": {}, \\\\\\\\\\\\\\\"isEnabled\\\\\\\\\\\\\\\": true, \\\\\\\\\\\\\\\"name\\\\\\\\\\\\\\\": null, \\\\\\\\\\\\\\\"annotation\\\\\\\\\\\\\\\": null}], \\\\\\\\\\\\\\\"inspectors\\\\\\\\\\\\\\\": [], \\\\\\\\\\\\\\\"meta\\\\\\\\\\\\\\\": {\\\\\\\\\\\\\\\"savedDatasetId\\\\\\\\\\\\\\\": \\\\\\\\\\\\\\\"b243f81e-19d2-49e5-9636-cf000b22e776\\\\\\\\\\\\\\\", \\\\\\\\\\\\\\\"datasetType\\\\\\\\\\\\\\\": \\\\\\\\\\\\\\\"tabular\\\\\\\\\\\\\\\", \\\\\\\\\\\\\\\"subscriptionId\\\\\\\\\\\\\\\": \\\\\\\\\\\\\\\"f5091c60-1c3c-430f-8d81-d802f6bf2414\\\\\\\\\\\\\\\", \\\\\\\\\\\\\\\"workspaceId\\\\\\\\\\\\\\\": \\\\\\\\\\\\\\\"e8f1172e-1881-424c-ae84-ac64d06a7333\\\\\\\\\\\\\\\", \\\\\\\\\\\\\\\"workspaceLocation\\\\\\\\\\\\\\\": \\\\\\\\\\\\\\\"southcentralus\\\\\\\\\\\\\\\"}}\\\\\\\", \\\\\\\"activities\\\\\\\": 0}\", \"EnableSubsampling\": null, \"runTemplate\": \"AutoML\", \"azureml.runsource\": \"automl\", \"display_task_type\": \"classification\", \"dependencies_versions\": \"{\\\"azureml-widgets\\\": \\\"1.20.0\\\", \\\"azureml-train\\\": \\\"1.20.0\\\", \\\"azureml-train-restclients-hyperdrive\\\": \\\"1.20.0\\\", \\\"azureml-train-core\\\": \\\"1.20.0\\\", \\\"azureml-train-automl\\\": \\\"1.20.0\\\", \\\"azureml-train-automl-runtime\\\": \\\"1.20.0\\\", \\\"azureml-train-automl-client\\\": \\\"1.20.0\\\", \\\"azureml-tensorboard\\\": \\\"1.20.0\\\", \\\"azureml-telemetry\\\": \\\"1.20.0\\\", \\\"azureml-sdk\\\": \\\"1.20.0\\\", \\\"azureml-samples\\\": \\\"0+unknown\\\", \\\"azureml-pipeline\\\": \\\"1.20.0\\\", \\\"azureml-pipeline-steps\\\": \\\"1.20.0\\\", \\\"azureml-pipeline-core\\\": \\\"1.20.0\\\", \\\"azureml-opendatasets\\\": \\\"1.20.0\\\", \\\"azureml-model-management-sdk\\\": \\\"1.0.1b6.post1\\\", \\\"azureml-mlflow\\\": \\\"1.20.0.post1\\\", \\\"azureml-interpret\\\": \\\"1.20.0\\\", \\\"azureml-explain-model\\\": \\\"1.20.0\\\", \\\"azureml-defaults\\\": \\\"1.20.0\\\", \\\"azureml-dataset-runtime\\\": \\\"1.20.0\\\", \\\"azureml-dataprep\\\": \\\"2.7.3\\\", \\\"azureml-dataprep-rslex\\\": \\\"1.5.0\\\", \\\"azureml-dataprep-native\\\": \\\"27.0.0\\\", \\\"azureml-datadrift\\\": \\\"1.20.0\\\", \\\"azureml-core\\\": \\\"1.20.0\\\", \\\"azureml-contrib-services\\\": \\\"1.20.0\\\", \\\"azureml-contrib-server\\\": \\\"1.20.0\\\", \\\"azureml-contrib-reinforcementlearning\\\": \\\"1.20.0\\\", \\\"azureml-contrib-pipeline-steps\\\": \\\"1.20.0\\\", \\\"azureml-contrib-notebook\\\": \\\"1.20.0\\\", \\\"azureml-contrib-interpret\\\": \\\"1.20.0\\\", \\\"azureml-contrib-gbdt\\\": \\\"1.20.0\\\", \\\"azureml-contrib-fairness\\\": \\\"1.20.0\\\", \\\"azureml-contrib-dataset\\\": \\\"1.20.0\\\", \\\"azureml-cli-common\\\": \\\"1.20.0\\\", \\\"azureml-automl-runtime\\\": \\\"1.20.0\\\", \\\"azureml-automl-core\\\": \\\"1.20.0\\\", \\\"azureml-accel-models\\\": \\\"1.20.0\\\"}\", \"_aml_system_scenario_identification\": \"Remote.Parent\", \"ClientType\": \"SDK\", \"environment_cpu_name\": \"AzureML-AutoML\", \"environment_cpu_label\": \"prod\", \"environment_gpu_name\": \"AzureML-AutoML-GPU\", \"environment_gpu_label\": \"prod\", \"root_attribution\": \"automl\", \"attribution\": \"AutoML\", \"Orchestrator\": \"AutoML\", \"CancelUri\": \"https://southcentralus.experiments.azureml.net/jasmine/v1.0/subscriptions/f5091c60-1c3c-430f-8d81-d802f6bf2414/resourceGroups/aml-quickstarts-136663/providers/Microsoft.MachineLearningServices/workspaces/quick-starts-ws-136663/experimentids/0de0dcca-7fb2-4790-8d94-e966ed8a533c/cancel/AutoML_28ca192b-abc5-4b5c-a8af-d42fe2867002\", \"ClientSdkVersion\": \"1.20.0.post1\", \"snapshotId\": \"00000000-0000-0000-0000-000000000000\", \"SetupRunId\": \"AutoML_28ca192b-abc5-4b5c-a8af-d42fe2867002_setup\", \"SetupRunContainerId\": \"dcid.AutoML_28ca192b-abc5-4b5c-a8af-d42fe2867002_setup\", \"FeaturizationRunJsonPath\": \"featurizer_container.json\", \"FeaturizationRunId\": \"AutoML_28ca192b-abc5-4b5c-a8af-d42fe2867002_featurize\", \"ProblemInfoJsonString\": \"{\\\"dataset_num_categorical\\\": 0, \\\"is_sparse\\\": false, \\\"subsampling\\\": false, \\\"dataset_classes\\\": 2, \\\"dataset_features\\\": 30, \\\"dataset_samples\\\": 284807, \\\"single_frequency_class_detected\\\": false}\", \"ModelExplainRunId\": \"AutoML_28ca192b-abc5-4b5c-a8af-d42fe2867002_ModelExplain\"}, \"tags\": {\"model_explain_run\": \"best_run\", \"_aml_system_azureml.automlComponent\": \"AutoML\", \"pipeline_id\": \"\", \"score\": \"\", \"predicted_cost\": \"\", \"fit_time\": \"\", \"training_percent\": \"\", \"iteration\": \"\", \"run_preprocessor\": \"\", \"run_algorithm\": \"\", \"automl_best_child_run_id\": \"AutoML_28ca192b-abc5-4b5c-a8af-d42fe2867002_3\", \"model_explain_best_run_child_id\": \"AutoML_28ca192b-abc5-4b5c-a8af-d42fe2867002_3\"}, \"end_time_utc\": \"2021-01-31T01:34:11.950672Z\", \"status\": \"Completed\", \"log_files\": {}, \"log_groups\": [], \"run_duration\": \"1:01:45\"}, \"child_runs\": [{\"run_id\": \"AutoML_28ca192b-abc5-4b5c-a8af-d42fe2867002_0\", \"run_number\": 19, \"metric\": null, \"status\": \"Completed\", \"run_type\": \"azureml.scriptrun\", \"training_percent\": \"100\", \"start_time\": \"2021-01-31T00:56:41.493281Z\", \"end_time\": \"2021-01-31T01:05:10.758716Z\", \"created_time\": \"2021-01-31T00:55:45.787875Z\", \"created_time_dt\": \"2021-01-31T00:55:45.787875Z\", \"duration\": \"0:09:24\", \"iteration\": \"0\", \"goal\": \"accuracy_max\", \"run_name\": \"MaxAbsScaler, LightGBM\", \"run_properties\": \"copy=True\", \"primary_metric\": 0.99253177, \"best_metric\": 0.99253177}, {\"run_id\": \"AutoML_28ca192b-abc5-4b5c-a8af-d42fe2867002_1\", \"run_number\": 22, \"metric\": null, \"status\": \"Completed\", \"run_type\": \"azureml.scriptrun\", \"training_percent\": \"100\", \"start_time\": \"2021-01-31T01:05:24.53717Z\", \"end_time\": \"2021-01-31T01:12:39.71723Z\", \"created_time\": \"2021-01-31T01:05:11.680733Z\", \"created_time_dt\": \"2021-01-31T01:05:11.680733Z\", \"duration\": \"0:07:28\", \"iteration\": \"1\", \"goal\": \"accuracy_max\", \"run_name\": \"MaxAbsScaler, XGBoostClassifier\", \"run_properties\": \"copy=True\", \"primary_metric\": 0.99949791, \"best_metric\": 0.99949791}, {\"run_id\": \"AutoML_28ca192b-abc5-4b5c-a8af-d42fe2867002_2\", \"run_number\": 29, \"metric\": null, \"status\": \"Canceled\", \"run_type\": \"azureml.scriptrun\", \"training_percent\": \"100\", \"start_time\": \"2021-01-31T01:26:56.008419Z\", \"end_time\": \"2021-01-31T01:27:48.299847Z\", \"created_time\": \"2021-01-31T01:12:40.929917Z\", \"created_time_dt\": \"2021-01-31T01:12:40.929917Z\", \"duration\": \"0:15:07\", \"iteration\": \"2\", \"goal\": null, \"run_name\": \"Canceled\", \"run_properties\": null}, {\"run_id\": \"AutoML_28ca192b-abc5-4b5c-a8af-d42fe2867002_3\", \"run_number\": 33, \"metric\": null, \"status\": \"Completed\", \"run_type\": \"azureml.scriptrun\", \"training_percent\": \"100\", \"start_time\": \"2021-01-31T01:28:45.594105Z\", \"end_time\": \"2021-01-31T01:30:16.391171Z\", \"created_time\": \"2021-01-31T01:27:50.715823Z\", \"created_time_dt\": \"2021-01-31T01:27:50.715823Z\", \"duration\": \"0:02:25\", \"iteration\": \"3\", \"goal\": \"accuracy_max\", \"run_name\": \"VotingEnsemble\", \"run_properties\": \"classification_labels=None,\\n                              estimators=[('1',\\n                                           Pipeline(memory=None,\\n                                                    steps=[('maxabsscaler',\\n                                                            MaxAbsScaler(copy=True\", \"primary_metric\": 0.99951195, \"best_metric\": 0.99951195}, {\"run_id\": \"AutoML_28ca192b-abc5-4b5c-a8af-d42fe2867002_4\", \"run_number\": 36, \"metric\": null, \"status\": \"Completed\", \"run_type\": \"azureml.scriptrun\", \"training_percent\": \"100\", \"start_time\": \"2021-01-31T01:30:29.656142Z\", \"end_time\": \"2021-01-31T01:34:08.615393Z\", \"created_time\": \"2021-01-31T01:30:17.262697Z\", \"created_time_dt\": \"2021-01-31T01:30:17.262697Z\", \"duration\": \"0:03:51\", \"iteration\": \"4\", \"goal\": \"accuracy_max\", \"run_name\": \"StackEnsemble\", \"run_properties\": \"base_learners=[('1',\\n                                        Pipeline(memory=None,\\n                                                 steps=[('maxabsscaler',\\n                                                         MaxAbsScaler(copy=True\", \"primary_metric\": 0.99950844, \"best_metric\": 0.99951195}], \"children_metrics\": {\"categories\": [0], \"series\": {\"weighted_accuracy\": [{\"categories\": [\"0\", \"1\", \"3\", \"4\"], \"mode\": \"markers\", \"name\": \"weighted_accuracy\", \"stepped\": false, \"type\": \"scatter\", \"data\": [0.9936630913462956, 0.9998727120873847, 0.9999078516901744, 0.999918376852278]}, {\"categories\": [\"0\", \"1\", \"3\", \"4\"], \"mode\": \"lines\", \"name\": \"weighted_accuracy_max\", \"stepped\": true, \"type\": \"scatter\", \"data\": [0.9936630913462956, 0.9998727120873847, 0.9999078516901744, 0.999918376852278]}], \"average_precision_score_macro\": [{\"categories\": [\"0\", \"1\", \"3\", \"4\"], \"mode\": \"markers\", \"name\": \"average_precision_score_macro\", \"stepped\": false, \"type\": \"scatter\", \"data\": [0.5374948461633214, 0.9212981679550168, 0.9093999960639463, 0.9131196165611228]}, {\"categories\": [\"0\", \"1\", \"3\", \"4\"], \"mode\": \"lines\", \"name\": \"average_precision_score_macro_max\", \"stepped\": true, \"type\": \"scatter\", \"data\": [0.5374948461633214, 0.9212981679550168, 0.9212981679550168, 0.9212981679550168]}], \"recall_score_macro\": [{\"categories\": [\"0\", \"1\", \"3\", \"4\"], \"mode\": \"markers\", \"name\": \"recall_score_macro\", \"stepped\": false, \"type\": \"scatter\", \"data\": [0.6648454445685565, 0.8913126035082369, 0.885101501735641, 0.8812932626452984]}, {\"categories\": [\"0\", \"1\", \"3\", \"4\"], \"mode\": \"lines\", \"name\": \"recall_score_macro_max\", \"stepped\": true, \"type\": \"scatter\", \"data\": [0.6648454445685565, 0.8913126035082369, 0.8913126035082369, 0.8913126035082369]}], \"recall_score_weighted\": [{\"categories\": [\"0\", \"1\", \"3\", \"4\"], \"mode\": \"markers\", \"name\": \"recall_score_weighted\", \"stepped\": false, \"type\": \"scatter\", \"data\": [0.9925317704550457, 0.9994979060799902, 0.9995119505923172, 0.9995084394796457]}, {\"categories\": [\"0\", \"1\", \"3\", \"4\"], \"mode\": \"lines\", \"name\": \"recall_score_weighted_max\", \"stepped\": true, \"type\": \"scatter\", \"data\": [0.9925317704550457, 0.9994979060799902, 0.9995119505923172, 0.9995119505923172]}], \"AUC_macro\": [{\"categories\": [\"0\", \"1\", \"3\", \"4\"], \"mode\": \"markers\", \"name\": \"AUC_macro\", \"stepped\": false, \"type\": \"scatter\", \"data\": [0.5966429860949191, 0.9797017580477607, 0.9786289690242459, 0.9787472776121142]}, {\"categories\": [\"0\", \"1\", \"3\", \"4\"], \"mode\": \"lines\", \"name\": \"AUC_macro_max\", \"stepped\": true, \"type\": \"scatter\", \"data\": [0.5966429860949191, 0.9797017580477607, 0.9797017580477607, 0.9797017580477607]}], \"recall_score_micro\": [{\"categories\": [\"0\", \"1\", \"3\", \"4\"], \"mode\": \"markers\", \"name\": \"recall_score_micro\", \"stepped\": false, \"type\": \"scatter\", \"data\": [0.9925317704550457, 0.9994979060799902, 0.9995119505923172, 0.9995084394796457]}, {\"categories\": [\"0\", \"1\", \"3\", \"4\"], \"mode\": \"lines\", \"name\": \"recall_score_micro_max\", \"stepped\": true, \"type\": \"scatter\", \"data\": [0.9925317704550457, 0.9994979060799902, 0.9995119505923172, 0.9995119505923172]}], \"f1_score_micro\": [{\"categories\": [\"0\", \"1\", \"3\", \"4\"], \"mode\": \"markers\", \"name\": \"f1_score_micro\", \"stepped\": false, \"type\": \"scatter\", \"data\": [0.9925317704550457, 0.9994979060799902, 0.9995119505923172, 0.9995084394796457]}, {\"categories\": [\"0\", \"1\", \"3\", \"4\"], \"mode\": \"lines\", \"name\": \"f1_score_micro_max\", \"stepped\": true, \"type\": \"scatter\", \"data\": [0.9925317704550457, 0.9994979060799902, 0.9995119505923172, 0.9995119505923172]}], \"precision_score_weighted\": [{\"categories\": [\"0\", \"1\", \"3\", \"4\"], \"mode\": \"markers\", \"name\": \"precision_score_weighted\", \"stepped\": false, \"type\": \"scatter\", \"data\": [0.9973361990784921, 0.999477560306629, 0.9994939010328487, 0.9994902093337238]}, {\"categories\": [\"0\", \"1\", \"3\", \"4\"], \"mode\": \"lines\", \"name\": \"precision_score_weighted_max\", \"stepped\": true, \"type\": \"scatter\", \"data\": [0.9973361990784921, 0.999477560306629, 0.9994939010328487, 0.9994939010328487]}], \"accuracy\": [{\"categories\": [\"0\", \"1\", \"3\", \"4\"], \"mode\": \"markers\", \"name\": \"accuracy\", \"stepped\": false, \"type\": \"scatter\", \"data\": [0.9925317704550457, 0.9994979060799902, 0.9995119505923172, 0.9995084394796457]}, {\"categories\": [\"0\", \"1\", \"3\", \"4\"], \"mode\": \"lines\", \"name\": \"accuracy_max\", \"stepped\": true, \"type\": \"scatter\", \"data\": [0.9925317704550457, 0.9994979060799902, 0.9995119505923172, 0.9995119505923172]}], \"AUC_weighted\": [{\"categories\": [\"0\", \"1\", \"3\", \"4\"], \"mode\": \"markers\", \"name\": \"AUC_weighted\", \"stepped\": false, \"type\": \"scatter\", \"data\": [0.6051342410203139, 0.9797004465323742, 0.9786277776539427, 0.9787470769646409]}, {\"categories\": [\"0\", \"1\", \"3\", \"4\"], \"mode\": \"lines\", \"name\": \"AUC_weighted_max\", \"stepped\": true, \"type\": \"scatter\", \"data\": [0.6051342410203139, 0.9797004465323742, 0.9797004465323742, 0.9797004465323742]}], \"f1_score_macro\": [{\"categories\": [\"0\", \"1\", \"3\", \"4\"], \"mode\": \"markers\", \"name\": \"f1_score_macro\", \"stepped\": false, \"type\": \"scatter\", \"data\": [0.5881605747316254, 0.9220814155449408, 0.9225380799990213, 0.9215784470712741]}, {\"categories\": [\"0\", \"1\", \"3\", \"4\"], \"mode\": \"lines\", \"name\": \"f1_score_macro_max\", \"stepped\": true, \"type\": \"scatter\", \"data\": [0.5881605747316254, 0.9220814155449408, 0.9225380799990213, 0.9225380799990213]}], \"f1_score_weighted\": [{\"categories\": [\"0\", \"1\", \"3\", \"4\"], \"mode\": \"markers\", \"name\": \"f1_score_weighted\", \"stepped\": false, \"type\": \"scatter\", \"data\": [0.9948239115808825, 0.9994783280620261, 0.9994880742729084, 0.9994822689507238]}, {\"categories\": [\"0\", \"1\", \"3\", \"4\"], \"mode\": \"lines\", \"name\": \"f1_score_weighted_max\", \"stepped\": true, \"type\": \"scatter\", \"data\": [0.9948239115808825, 0.9994783280620261, 0.9994880742729084, 0.9994880742729084]}], \"balanced_accuracy\": [{\"categories\": [\"0\", \"1\", \"3\", \"4\"], \"mode\": \"markers\", \"name\": \"balanced_accuracy\", \"stepped\": false, \"type\": \"scatter\", \"data\": [0.6648454445685565, 0.8913126035082369, 0.885101501735641, 0.8812932626452984]}, {\"categories\": [\"0\", \"1\", \"3\", \"4\"], \"mode\": \"lines\", \"name\": \"balanced_accuracy_max\", \"stepped\": true, \"type\": \"scatter\", \"data\": [0.6648454445685565, 0.8913126035082369, 0.8913126035082369, 0.8913126035082369]}], \"average_precision_score_micro\": [{\"categories\": [\"0\", \"1\", \"3\", \"4\"], \"mode\": \"markers\", \"name\": \"average_precision_score_micro\", \"stepped\": false, \"type\": \"scatter\", \"data\": [0.9878153912446794, 0.9999265162190156, 0.9999223996108209, 0.9999230437032619]}, {\"categories\": [\"0\", \"1\", \"3\", \"4\"], \"mode\": \"lines\", \"name\": \"average_precision_score_micro_max\", \"stepped\": true, \"type\": \"scatter\", \"data\": [0.9878153912446794, 0.9999265162190156, 0.9999265162190156, 0.9999265162190156]}], \"norm_macro_recall\": [{\"categories\": [\"0\", \"1\", \"3\", \"4\"], \"mode\": \"markers\", \"name\": \"norm_macro_recall\", \"stepped\": false, \"type\": \"scatter\", \"data\": [0.3296908891371131, 0.7826252070164735, 0.7702030034712821, 0.7625865252905969]}, {\"categories\": [\"0\", \"1\", \"3\", \"4\"], \"mode\": \"lines\", \"name\": \"norm_macro_recall_max\", \"stepped\": true, \"type\": \"scatter\", \"data\": [0.3296908891371131, 0.7826252070164735, 0.7826252070164735, 0.7826252070164735]}], \"AUC_micro\": [{\"categories\": [\"0\", \"1\", \"3\", \"4\"], \"mode\": \"markers\", \"name\": \"AUC_micro\", \"stepped\": false, \"type\": \"scatter\", \"data\": [0.991071812088132, 0.9999290713968758, 0.9999250007960919, 0.9999256188123372]}, {\"categories\": [\"0\", \"1\", \"3\", \"4\"], \"mode\": \"lines\", \"name\": \"AUC_micro_max\", \"stepped\": true, \"type\": \"scatter\", \"data\": [0.991071812088132, 0.9999290713968758, 0.9999290713968758, 0.9999290713968758]}], \"matthews_correlation\": [{\"categories\": [\"0\", \"1\", \"3\", \"4\"], \"mode\": \"markers\", \"name\": \"matthews_correlation\", \"stepped\": false, \"type\": \"scatter\", \"data\": [0.20036444375914142, 0.8469588049320583, 0.8494340878373515, 0.8481379257379359]}, {\"categories\": [\"0\", \"1\", \"3\", \"4\"], \"mode\": \"lines\", \"name\": \"matthews_correlation_max\", \"stepped\": true, \"type\": \"scatter\", \"data\": [0.20036444375914142, 0.8469588049320583, 0.8494340878373515, 0.8494340878373515]}], \"precision_score_micro\": [{\"categories\": [\"0\", \"1\", \"3\", \"4\"], \"mode\": \"markers\", \"name\": \"precision_score_micro\", \"stepped\": false, \"type\": \"scatter\", \"data\": [0.9925317704550457, 0.9994979060799902, 0.9995119505923172, 0.9995084394796457]}, {\"categories\": [\"0\", \"1\", \"3\", \"4\"], \"mode\": \"lines\", \"name\": \"precision_score_micro_max\", \"stepped\": true, \"type\": \"scatter\", \"data\": [0.9925317704550457, 0.9994979060799902, 0.9995119505923172, 0.9995119505923172]}], \"average_precision_score_weighted\": [{\"categories\": [\"0\", \"1\", \"3\", \"4\"], \"mode\": \"markers\", \"name\": \"average_precision_score_weighted\", \"stepped\": false, \"type\": \"scatter\", \"data\": [0.9969921253300023, 0.9996837358467294, 0.9996395351657347, 0.9996531057590963]}, {\"categories\": [\"0\", \"1\", \"3\", \"4\"], \"mode\": \"lines\", \"name\": \"average_precision_score_weighted_max\", \"stepped\": true, \"type\": \"scatter\", \"data\": [0.9969921253300023, 0.9996837358467294, 0.9996837358467294, 0.9996837358467294]}], \"precision_score_macro\": [{\"categories\": [\"0\", \"1\", \"3\", \"4\"], \"mode\": \"markers\", \"name\": \"precision_score_macro\", \"stepped\": false, \"type\": \"scatter\", \"data\": [0.5640516605777988, 0.9584343844651224, 0.9686900646258272, 0.9718260834121274]}, {\"categories\": [\"0\", \"1\", \"3\", \"4\"], \"mode\": \"lines\", \"name\": \"precision_score_macro_max\", \"stepped\": true, \"type\": \"scatter\", \"data\": [0.5640516605777988, 0.9584343844651224, 0.9686900646258272, 0.9718260834121274]}], \"log_loss\": [{\"categories\": [\"0\", \"1\", \"3\", \"4\"], \"mode\": \"markers\", \"name\": \"log_loss\", \"stepped\": false, \"type\": \"scatter\", \"data\": [0.24265787336787445, 0.0026651435913587836, 0.004367841489027251, 0.0032322576445806585]}, {\"categories\": [\"0\", \"1\", \"3\", \"4\"], \"mode\": \"lines\", \"name\": \"log_loss_min\", \"stepped\": true, \"type\": \"scatter\", \"data\": [0.24265787336787445, 0.0026651435913587836, 0.0026651435913587836, 0.0026651435913587836]}]}, \"metricName\": null, \"primaryMetricName\": \"accuracy\", \"showLegend\": false}, \"run_metrics\": [{\"name\": \"experiment_status\", \"run_id\": \"AutoML_28ca192b-abc5-4b5c-a8af-d42fe2867002\", \"categories\": [0, 1, 2, 3, 4, 5, 6, 7, 8, 9, 10, 11, 12, 13, 14], \"series\": [{\"data\": [\"DatasetEvaluation\", \"FeaturesGeneration\", \"DatasetFeaturization\", \"DatasetFeaturizationCompleted\", \"DatasetBalancing\", \"DatasetCrossValidationSplit\", \"ModelSelection\", \"BestRunExplainModel\", \"ModelExplanationDataSetSetup\", \"PickSurrogateModel\", \"EngineeredFeatureExplanations\", \"EngineeredFeatureExplanations\", \"RawFeaturesExplanations\", \"RawFeaturesExplanations\", \"BestRunExplainModel\"]}]}, {\"name\": \"experiment_status_description\", \"run_id\": \"AutoML_28ca192b-abc5-4b5c-a8af-d42fe2867002\", \"categories\": [0, 1, 2, 3, 4, 5, 6, 7, 8, 9, 10, 11, 12, 13, 14], \"series\": [{\"data\": [\"Gathering dataset statistics.\", \"Generating features for the dataset.\", \"Beginning to fit featurizers and featurize the dataset.\", \"Completed fit featurizers and featurizing the dataset.\", \"Performing class balancing sweeping\", \"Generating individually featurized CV splits.\", \"Beginning model selection.\", \"Best run model explanations started\", \"Model explanations data setup completed\", \"Choosing LightGBM as the surrogate model for explanations\", \"Computation of engineered features started\", \"Computation of engineered features completed\", \"Computation of raw features started\", \"Computation of raw features completed\", \"Best run model explanations completed\"]}]}, {\"name\": \"AUC_macro\", \"run_id\": \"AutoML_28ca192b-abc5-4b5c-a8af-d42fe2867002\", \"categories\": [0], \"series\": [{\"data\": [0.9786289690242459]}]}, {\"name\": \"precision_score_macro\", \"run_id\": \"AutoML_28ca192b-abc5-4b5c-a8af-d42fe2867002\", \"categories\": [0], \"series\": [{\"data\": [0.9686900646258272]}]}, {\"name\": \"matthews_correlation\", \"run_id\": \"AutoML_28ca192b-abc5-4b5c-a8af-d42fe2867002\", \"categories\": [0], \"series\": [{\"data\": [0.8494340878373515]}]}, {\"name\": \"AUC_micro\", \"run_id\": \"AutoML_28ca192b-abc5-4b5c-a8af-d42fe2867002\", \"categories\": [0], \"series\": [{\"data\": [0.9999250007960919]}]}, {\"name\": \"f1_score_macro\", \"run_id\": \"AutoML_28ca192b-abc5-4b5c-a8af-d42fe2867002\", \"categories\": [0], \"series\": [{\"data\": [0.9225380799990213]}]}, {\"name\": \"precision_score_micro\", \"run_id\": \"AutoML_28ca192b-abc5-4b5c-a8af-d42fe2867002\", \"categories\": [0], \"series\": [{\"data\": [0.9995119505923172]}]}, {\"name\": \"f1_score_weighted\", \"run_id\": \"AutoML_28ca192b-abc5-4b5c-a8af-d42fe2867002\", \"categories\": [0], \"series\": [{\"data\": [0.9994880742729084]}]}, {\"name\": \"recall_score_macro\", \"run_id\": \"AutoML_28ca192b-abc5-4b5c-a8af-d42fe2867002\", \"categories\": [0], \"series\": [{\"data\": [0.885101501735641]}]}, {\"name\": \"average_precision_score_weighted\", \"run_id\": \"AutoML_28ca192b-abc5-4b5c-a8af-d42fe2867002\", \"categories\": [0], \"series\": [{\"data\": [0.9996395351657347]}]}, {\"name\": \"log_loss\", \"run_id\": \"AutoML_28ca192b-abc5-4b5c-a8af-d42fe2867002\", \"categories\": [0], \"series\": [{\"data\": [0.004367841489027251]}]}, {\"name\": \"norm_macro_recall\", \"run_id\": \"AutoML_28ca192b-abc5-4b5c-a8af-d42fe2867002\", \"categories\": [0], \"series\": [{\"data\": [0.7702030034712821]}]}, {\"name\": \"f1_score_micro\", \"run_id\": \"AutoML_28ca192b-abc5-4b5c-a8af-d42fe2867002\", \"categories\": [0], \"series\": [{\"data\": [0.9995119505923172]}]}, {\"name\": \"average_precision_score_micro\", \"run_id\": \"AutoML_28ca192b-abc5-4b5c-a8af-d42fe2867002\", \"categories\": [0], \"series\": [{\"data\": [0.9999223996108209]}]}, {\"name\": \"precision_score_weighted\", \"run_id\": \"AutoML_28ca192b-abc5-4b5c-a8af-d42fe2867002\", \"categories\": [0], \"series\": [{\"data\": [0.9994939010328487]}]}, {\"name\": \"weighted_accuracy\", \"run_id\": \"AutoML_28ca192b-abc5-4b5c-a8af-d42fe2867002\", \"categories\": [0], \"series\": [{\"data\": [0.9999078516901744]}]}, {\"name\": \"AUC_weighted\", \"run_id\": \"AutoML_28ca192b-abc5-4b5c-a8af-d42fe2867002\", \"categories\": [0], \"series\": [{\"data\": [0.9786277776539427]}]}, {\"name\": \"balanced_accuracy\", \"run_id\": \"AutoML_28ca192b-abc5-4b5c-a8af-d42fe2867002\", \"categories\": [0], \"series\": [{\"data\": [0.885101501735641]}]}, {\"name\": \"recall_score_micro\", \"run_id\": \"AutoML_28ca192b-abc5-4b5c-a8af-d42fe2867002\", \"categories\": [0], \"series\": [{\"data\": [0.9995119505923172]}]}, {\"name\": \"accuracy\", \"run_id\": \"AutoML_28ca192b-abc5-4b5c-a8af-d42fe2867002\", \"categories\": [0], \"series\": [{\"data\": [0.9995119505923172]}]}, {\"name\": \"average_precision_score_macro\", \"run_id\": \"AutoML_28ca192b-abc5-4b5c-a8af-d42fe2867002\", \"categories\": [0], \"series\": [{\"data\": [0.9093999960639463]}]}, {\"name\": \"recall_score_weighted\", \"run_id\": \"AutoML_28ca192b-abc5-4b5c-a8af-d42fe2867002\", \"categories\": [0], \"series\": [{\"data\": [0.9995119505923172]}]}], \"run_logs\": \"\\nRun is completed.\", \"graph\": {}, \"widget_settings\": {\"childWidgetDisplay\": \"popup\", \"send_telemetry\": false, \"log_level\": \"INFO\", \"sdk_version\": \"1.20.0\"}, \"loading\": false}"
     },
     "metadata": {},
     "output_type": "display_data"
    },
    {
     "data": {
      "application/vnd.jupyter.widget-view+json": {
       "model_id": "74b640343dde4be3b2931ac281476b5c",
       "version_major": 2,
       "version_minor": 0
      },
      "text/plain": [
       "_UserRunWidget(widget_settings={'childWidgetDisplay': 'popup', 'send_telemetry': False, 'log_level': 'INFO', '…"
      ]
     },
     "metadata": {},
     "output_type": "display_data"
    },
    {
     "data": {
      "application/aml.mini.widget.v1": "{\"loading\": true}"
     },
     "metadata": {},
     "output_type": "display_data"
    }
   ],
   "source": [
    "from azureml.widgets import RunDetails\n",
    "RunDetails(remote_run).show()"
   ]
  },
  {
   "cell_type": "markdown",
   "metadata": {},
   "source": [
    "## Best Model\n",
    "\n",
    "TODO: In the cell below, get the best model from the automl experiments and display all the properties of the model.\n",
    "\n"
   ]
  },
  {
   "cell_type": "code",
   "execution_count": 12,
   "metadata": {
    "gather": {
     "logged": 1598431425670
    },
    "jupyter": {
     "outputs_hidden": false,
     "source_hidden": false
    },
    "nteract": {
     "transient": {
      "deleting": false
     }
    }
   },
   "outputs": [
    {
     "name": "stdout",
     "output_type": "stream",
     "text": [
      "Best Run Id:  AutoML_28ca192b-abc5-4b5c-a8af-d42fe2867002_3\n"
     ]
    }
   ],
   "source": [
    "import joblib\n",
    "\n",
    "best_automl_run, best_automl_model = remote_run.get_output()\n",
    "\n",
    "print('Best Run Id: ', best_automl_run.id)"
   ]
  },
  {
   "cell_type": "code",
   "execution_count": 13,
   "metadata": {},
   "outputs": [
    {
     "name": "stdout",
     "output_type": "stream",
     "text": [
      "datatransformer\n",
      "{'enable_dnn': None,\n",
      " 'enable_feature_sweeping': None,\n",
      " 'feature_sweeping_config': None,\n",
      " 'feature_sweeping_timeout': None,\n",
      " 'featurization_config': None,\n",
      " 'force_text_dnn': None,\n",
      " 'is_cross_validation': None,\n",
      " 'is_onnx_compatible': None,\n",
      " 'logger': None,\n",
      " 'observer': None,\n",
      " 'task': None,\n",
      " 'working_dir': None}\n",
      "\n",
      "prefittedsoftvotingclassifier\n",
      "{'estimators': ['1', '0'], 'weights': [0.7777777777777778, 0.2222222222222222]}\n",
      "\n",
      "1 - maxabsscaler\n",
      "{'copy': True}\n",
      "\n",
      "1 - xgboostclassifier\n",
      "{'base_score': 0.5,\n",
      " 'booster': 'gbtree',\n",
      " 'colsample_bylevel': 1,\n",
      " 'colsample_bynode': 1,\n",
      " 'colsample_bytree': 1,\n",
      " 'gamma': 0,\n",
      " 'learning_rate': 0.1,\n",
      " 'max_delta_step': 0,\n",
      " 'max_depth': 3,\n",
      " 'min_child_weight': 1,\n",
      " 'missing': nan,\n",
      " 'n_estimators': 100,\n",
      " 'n_jobs': 1,\n",
      " 'nthread': None,\n",
      " 'objective': 'binary:logistic',\n",
      " 'random_state': 0,\n",
      " 'reg_alpha': 0,\n",
      " 'reg_lambda': 1,\n",
      " 'scale_pos_weight': 1,\n",
      " 'seed': None,\n",
      " 'silent': None,\n",
      " 'subsample': 1,\n",
      " 'tree_method': 'auto',\n",
      " 'verbose': -10,\n",
      " 'verbosity': 0}\n",
      "\n",
      "0 - maxabsscaler\n",
      "{'copy': True}\n",
      "\n",
      "0 - lightgbmclassifier\n",
      "{'boosting_type': 'gbdt',\n",
      " 'class_weight': None,\n",
      " 'colsample_bytree': 1.0,\n",
      " 'importance_type': 'split',\n",
      " 'learning_rate': 0.1,\n",
      " 'max_depth': -1,\n",
      " 'min_child_samples': 20,\n",
      " 'min_child_weight': 0.001,\n",
      " 'min_split_gain': 0.0,\n",
      " 'n_estimators': 100,\n",
      " 'n_jobs': 1,\n",
      " 'num_leaves': 31,\n",
      " 'objective': None,\n",
      " 'random_state': None,\n",
      " 'reg_alpha': 0.0,\n",
      " 'reg_lambda': 0.0,\n",
      " 'silent': True,\n",
      " 'subsample': 1.0,\n",
      " 'subsample_for_bin': 200000,\n",
      " 'subsample_freq': 0,\n",
      " 'verbose': -10}\n",
      "\n"
     ]
    }
   ],
   "source": [
    "from pprint import pprint\n",
    "\n",
    "def print_model(model, prefix=\"\"):\n",
    "    for step in model.steps:\n",
    "        print(prefix + step[0])\n",
    "        if hasattr(step[1], 'estimators') and hasattr(step[1], 'weights'):\n",
    "            pprint({'estimators': list(e[0] for e in step[1].estimators), 'weights': step[1].weights})\n",
    "            print()\n",
    "            for estimator in step[1].estimators:\n",
    "                print_model(estimator[1], estimator[0]+ ' - ')\n",
    "        elif hasattr(step[1], '_base_learners') and hasattr(step[1], '_meta_learner'):\n",
    "            print(\"\\nMeta Learner\")\n",
    "            pprint(step[1]._meta_learner)\n",
    "            print()\n",
    "            for estimator in step[1]._base_learners:\n",
    "                print_model(estimator[1], estimator[0]+ ' - ')\n",
    "        else:\n",
    "            pprint(step[1].get_params())\n",
    "            print()\n",
    "\n",
    "print_model(best_automl_model)"
   ]
  },
  {
   "cell_type": "code",
   "execution_count": 14,
   "metadata": {},
   "outputs": [
    {
     "name": "stdout",
     "output_type": "stream",
     "text": [
      "Pipeline(memory=None,\n",
      "         steps=[('datatransformer',\n",
      "                 DataTransformer(enable_dnn=None, enable_feature_sweeping=None,\n",
      "                                 feature_sweeping_config=None,\n",
      "                                 feature_sweeping_timeout=None,\n",
      "                                 featurization_config=None, force_text_dnn=None,\n",
      "                                 is_cross_validation=None,\n",
      "                                 is_onnx_compatible=None, logger=None,\n",
      "                                 observer=None, task=None, working_dir=None)),\n",
      "                ('prefittedsoftvotingclassifier',...\n",
      "                                                                                                min_child_samples=20,\n",
      "                                                                                                min_child_weight=0.001,\n",
      "                                                                                                min_split_gain=0.0,\n",
      "                                                                                                n_estimators=100,\n",
      "                                                                                                n_jobs=1,\n",
      "                                                                                                num_leaves=31,\n",
      "                                                                                                objective=None,\n",
      "                                                                                                random_state=None,\n",
      "                                                                                                reg_alpha=0.0,\n",
      "                                                                                                reg_lambda=0.0,\n",
      "                                                                                                silent=True,\n",
      "                                                                                                subsample=1.0,\n",
      "                                                                                                subsample_for_bin=200000,\n",
      "                                                                                                subsample_freq=0,\n",
      "                                                                                                verbose=-10))],\n",
      "                                                                     verbose=False))],\n",
      "                                               flatten_transform=None,\n",
      "                                               weights=[0.7777777777777778,\n",
      "                                                        0.2222222222222222]))],\n",
      "         verbose=False)\n"
     ]
    }
   ],
   "source": [
    "print(best_automl_model)"
   ]
  },
  {
   "cell_type": "code",
   "execution_count": 15,
   "metadata": {
    "gather": {
     "logged": 1598431426111
    },
    "jupyter": {
     "outputs_hidden": false,
     "source_hidden": false
    },
    "nteract": {
     "transient": {
      "deleting": false
     }
    }
   },
   "outputs": [
    {
     "data": {
      "text/plain": [
       "Model(workspace=Workspace.create(name='quick-starts-ws-136663', subscription_id='f5091c60-1c3c-430f-8d81-d802f6bf2414', resource_group='aml-quickstarts-136663'), name=best_automl_model, id=best_automl_model:1, version=1, tags={}, properties={})"
      ]
     },
     "execution_count": 15,
     "metadata": {},
     "output_type": "execute_result"
    }
   ],
   "source": [
    "#TODO: Save the best model\n",
    "best_automl_run.register_model(model_name=\"best_automl_model\", model_path=\"./\")"
   ]
  },
  {
   "cell_type": "code",
   "execution_count": 33,
   "metadata": {},
   "outputs": [
    {
     "data": {
      "text/plain": [
       "'AutoML28ca192ba3'"
      ]
     },
     "execution_count": 33,
     "metadata": {},
     "output_type": "execute_result"
    }
   ],
   "source": [
    "os.makedirs('./outputs', exist_ok=True)\n",
    "\n",
    "joblib.dump(best_automl_model, filename='outputs/automl.joblib')\n",
    "\n",
    "model_name = best_automl_run.properties['model_name']\n",
    "model_name"
   ]
  },
  {
   "cell_type": "code",
   "execution_count": 36,
   "metadata": {},
   "outputs": [],
   "source": [
    "# best_automl_run.download_file('outputs/scoring_file_v_0_1.py', 'score.py')"
   ]
  },
  {
   "cell_type": "markdown",
   "metadata": {},
   "source": [
    "## Model Deployment\n",
    "\n",
    "Remember you have to deploy only one of the two models you trained.. Perform the steps in the rest of this notebook only if you wish to deploy this model.\n",
    "\n",
    "TODO: In the cell below, register the model, create an inference config and deploy the model as a web service."
   ]
  },
  {
   "cell_type": "code",
   "execution_count": 46,
   "metadata": {},
   "outputs": [],
   "source": [
    "from azureml.core.environment import Environment\n",
    "from azureml.core.model import InferenceConfig\n",
    "\n",
    "env = best_automl_run.get_environment()\n",
    "\n",
    "for pip_package in [\"scikit-learn\"]:\n",
    "    env.python.conda_dependencies.add_pip_package(pip_package)\n",
    "\n",
    "inference_config = InferenceConfig(entry_script='score.py', environment=env)"
   ]
  },
  {
   "cell_type": "code",
   "execution_count": 52,
   "metadata": {},
   "outputs": [
    {
     "ename": "AttributeError",
     "evalue": "'Pipeline' object has no attribute 'id'",
     "output_type": "error",
     "traceback": [
      "\u001b[0;31m---------------------------------------------------------------------------\u001b[0m",
      "\u001b[0;31mAttributeError\u001b[0m                            Traceback (most recent call last)",
      "\u001b[0;32m<ipython-input-52-7569f111354c>\u001b[0m in \u001b[0;36m<module>\u001b[0;34m\u001b[0m\n\u001b[1;32m      8\u001b[0m \u001b[0maci_config\u001b[0m \u001b[0;34m=\u001b[0m \u001b[0mAciWebservice\u001b[0m\u001b[0;34m.\u001b[0m\u001b[0mdeploy_configuration\u001b[0m\u001b[0;34m(\u001b[0m\u001b[0mcpu_cores\u001b[0m\u001b[0;34m=\u001b[0m\u001b[0;36m1\u001b[0m\u001b[0;34m,\u001b[0m \u001b[0mmemory_gb\u001b[0m\u001b[0;34m=\u001b[0m\u001b[0;36m1\u001b[0m\u001b[0;34m)\u001b[0m\u001b[0;34m\u001b[0m\u001b[0;34m\u001b[0m\u001b[0m\n\u001b[1;32m      9\u001b[0m \u001b[0;34m\u001b[0m\u001b[0m\n\u001b[0;32m---> 10\u001b[0;31m \u001b[0mservice\u001b[0m \u001b[0;34m=\u001b[0m \u001b[0mModel\u001b[0m\u001b[0;34m.\u001b[0m\u001b[0mdeploy\u001b[0m\u001b[0;34m(\u001b[0m\u001b[0mworkspace\u001b[0m\u001b[0;34m=\u001b[0m\u001b[0mws\u001b[0m\u001b[0;34m,\u001b[0m \u001b[0mname\u001b[0m\u001b[0;34m=\u001b[0m\u001b[0mservice_name\u001b[0m\u001b[0;34m,\u001b[0m\u001b[0mmodels\u001b[0m\u001b[0;34m=\u001b[0m\u001b[0;34m[\u001b[0m\u001b[0mbest_automl_model\u001b[0m\u001b[0;34m]\u001b[0m\u001b[0;34m,\u001b[0m \u001b[0minference_config\u001b[0m\u001b[0;34m=\u001b[0m\u001b[0minference_config\u001b[0m\u001b[0;34m,\u001b[0m \u001b[0mdeployment_config\u001b[0m\u001b[0;34m=\u001b[0m\u001b[0maci_config\u001b[0m\u001b[0;34m,\u001b[0m \u001b[0moverwrite\u001b[0m\u001b[0;34m=\u001b[0m\u001b[0;32mTrue\u001b[0m\u001b[0;34m)\u001b[0m\u001b[0;34m\u001b[0m\u001b[0;34m\u001b[0m\u001b[0m\n\u001b[0m\u001b[1;32m     11\u001b[0m \u001b[0mservice\u001b[0m\u001b[0;34m.\u001b[0m\u001b[0mwait_for_deployment\u001b[0m\u001b[0;34m(\u001b[0m\u001b[0mshow_output\u001b[0m\u001b[0;34m=\u001b[0m\u001b[0;32mTrue\u001b[0m\u001b[0;34m)\u001b[0m\u001b[0;34m\u001b[0m\u001b[0;34m\u001b[0m\u001b[0m\n",
      "\u001b[0;32m/anaconda/envs/azureml_py36/lib/python3.6/site-packages/azureml/core/model.py\u001b[0m in \u001b[0;36mdeploy\u001b[0;34m(workspace, name, models, inference_config, deployment_config, deployment_target, overwrite)\u001b[0m\n\u001b[1;32m   1614\u001b[0m         \u001b[0;32mif\u001b[0m \u001b[0muse_env_path\u001b[0m\u001b[0;34m:\u001b[0m\u001b[0;34m\u001b[0m\u001b[0;34m\u001b[0m\u001b[0m\n\u001b[1;32m   1615\u001b[0m             return Model._deploy_with_environment(workspace, name, models, inference_config, deployment_config,\n\u001b[0;32m-> 1616\u001b[0;31m                                                   deployment_target, overwrite)\n\u001b[0m\u001b[1;32m   1617\u001b[0m \u001b[0;34m\u001b[0m\u001b[0m\n\u001b[1;32m   1618\u001b[0m         \u001b[0;31m# ContainerImage-based webservice.\u001b[0m\u001b[0;34m\u001b[0m\u001b[0;34m\u001b[0m\u001b[0;34m\u001b[0m\u001b[0m\n",
      "\u001b[0;32m/anaconda/envs/azureml_py36/lib/python3.6/site-packages/azureml/core/model.py\u001b[0m in \u001b[0;36m_deploy_with_environment\u001b[0;34m(workspace, name, models, inference_config, deployment_config, deployment_target, overwrite)\u001b[0m\n\u001b[1;32m   1811\u001b[0m         \"\"\"\n\u001b[1;32m   1812\u001b[0m         \u001b[0menvironment_image_request\u001b[0m \u001b[0;34m=\u001b[0m\u001b[0;31m \u001b[0m\u001b[0;31m\\\u001b[0m\u001b[0;34m\u001b[0m\u001b[0;34m\u001b[0m\u001b[0m\n\u001b[0;32m-> 1813\u001b[0;31m             \u001b[0minference_config\u001b[0m\u001b[0;34m.\u001b[0m\u001b[0m_build_environment_image_request\u001b[0m\u001b[0;34m(\u001b[0m\u001b[0mworkspace\u001b[0m\u001b[0;34m,\u001b[0m \u001b[0;34m[\u001b[0m\u001b[0mmodel\u001b[0m\u001b[0;34m.\u001b[0m\u001b[0mid\u001b[0m \u001b[0;32mfor\u001b[0m \u001b[0mmodel\u001b[0m \u001b[0;32min\u001b[0m \u001b[0mmodels\u001b[0m\u001b[0;34m]\u001b[0m\u001b[0;34m)\u001b[0m\u001b[0;34m\u001b[0m\u001b[0;34m\u001b[0m\u001b[0m\n\u001b[0m\u001b[1;32m   1814\u001b[0m \u001b[0;34m\u001b[0m\u001b[0m\n\u001b[1;32m   1815\u001b[0m         return Model._deploy_with_environment_image_request(workspace, name, environment_image_request,\n",
      "\u001b[0;32m/anaconda/envs/azureml_py36/lib/python3.6/site-packages/azureml/core/model.py\u001b[0m in \u001b[0;36m<listcomp>\u001b[0;34m(.0)\u001b[0m\n\u001b[1;32m   1811\u001b[0m         \"\"\"\n\u001b[1;32m   1812\u001b[0m         \u001b[0menvironment_image_request\u001b[0m \u001b[0;34m=\u001b[0m\u001b[0;31m \u001b[0m\u001b[0;31m\\\u001b[0m\u001b[0;34m\u001b[0m\u001b[0;34m\u001b[0m\u001b[0m\n\u001b[0;32m-> 1813\u001b[0;31m             \u001b[0minference_config\u001b[0m\u001b[0;34m.\u001b[0m\u001b[0m_build_environment_image_request\u001b[0m\u001b[0;34m(\u001b[0m\u001b[0mworkspace\u001b[0m\u001b[0;34m,\u001b[0m \u001b[0;34m[\u001b[0m\u001b[0mmodel\u001b[0m\u001b[0;34m.\u001b[0m\u001b[0mid\u001b[0m \u001b[0;32mfor\u001b[0m \u001b[0mmodel\u001b[0m \u001b[0;32min\u001b[0m \u001b[0mmodels\u001b[0m\u001b[0;34m]\u001b[0m\u001b[0;34m)\u001b[0m\u001b[0;34m\u001b[0m\u001b[0;34m\u001b[0m\u001b[0m\n\u001b[0m\u001b[1;32m   1814\u001b[0m \u001b[0;34m\u001b[0m\u001b[0m\n\u001b[1;32m   1815\u001b[0m         return Model._deploy_with_environment_image_request(workspace, name, environment_image_request,\n",
      "\u001b[0;31mAttributeError\u001b[0m: 'Pipeline' object has no attribute 'id'"
     ]
    }
   ],
   "source": [
    "from azureml.core.model import InferenceConfig\n",
    "from azureml.core.webservice import AciWebservice\n",
    "\n",
    "\n",
    "service_name = 'my-custom-env-service'\n",
    "\n",
    "inference_config = InferenceConfig(entry_script='score.py', environment=env)\n",
    "aci_config = AciWebservice.deploy_configuration(cpu_cores=1, memory_gb=1)\n",
    "\n",
    "service = Model.deploy(workspace=ws, name=service_name,models=[best_automl_model], inference_config=inference_config, deployment_config=aci_config, overwrite=True)\n",
    "service.wait_for_deployment(show_output=True)"
   ]
  },
  {
   "cell_type": "code",
   "execution_count": 22,
   "metadata": {
    "gather": {
     "logged": 1598431435189
    },
    "jupyter": {
     "outputs_hidden": false,
     "source_hidden": false
    },
    "nteract": {
     "transient": {
      "deleting": false
     }
    }
   },
   "outputs": [
    {
     "ename": "NameError",
     "evalue": "name 'inference_config' is not defined",
     "output_type": "error",
     "traceback": [
      "\u001b[0;31m---------------------------------------------------------------------------\u001b[0m",
      "\u001b[0;31mNameError\u001b[0m                                 Traceback (most recent call last)",
      "\u001b[0;32m<ipython-input-22-7a38b1a9c223>\u001b[0m in \u001b[0;36m<module>\u001b[0;34m\u001b[0m\n\u001b[1;32m      1\u001b[0m \u001b[0;32mfrom\u001b[0m \u001b[0mazureml\u001b[0m\u001b[0;34m.\u001b[0m\u001b[0mcore\u001b[0m\u001b[0;34m.\u001b[0m\u001b[0mmodel\u001b[0m \u001b[0;32mimport\u001b[0m \u001b[0mModel\u001b[0m\u001b[0;34m\u001b[0m\u001b[0;34m\u001b[0m\u001b[0m\n\u001b[1;32m      2\u001b[0m \u001b[0;34m\u001b[0m\u001b[0m\n\u001b[0;32m----> 3\u001b[0;31m \u001b[0mservice\u001b[0m \u001b[0;34m=\u001b[0m \u001b[0mModel\u001b[0m\u001b[0;34m.\u001b[0m\u001b[0mdeploy\u001b[0m\u001b[0;34m(\u001b[0m\u001b[0mws\u001b[0m\u001b[0;34m,\u001b[0m \u001b[0;34m\"payment-fraud-detection\"\u001b[0m\u001b[0;34m,\u001b[0m \u001b[0;34m[\u001b[0m\u001b[0mbest_automl_model\u001b[0m\u001b[0;34m]\u001b[0m\u001b[0;34m,\u001b[0m \u001b[0minference_config\u001b[0m\u001b[0;34m,\u001b[0m \u001b[0maci_config\u001b[0m\u001b[0;34m)\u001b[0m\u001b[0;34m\u001b[0m\u001b[0;34m\u001b[0m\u001b[0m\n\u001b[0m\u001b[1;32m      4\u001b[0m \u001b[0mservice\u001b[0m\u001b[0;34m.\u001b[0m\u001b[0mwait_for_deployment\u001b[0m\u001b[0;34m(\u001b[0m\u001b[0;32mTrue\u001b[0m\u001b[0;34m)\u001b[0m\u001b[0;34m\u001b[0m\u001b[0;34m\u001b[0m\u001b[0m\n\u001b[1;32m      5\u001b[0m \u001b[0mprint\u001b[0m\u001b[0;34m(\u001b[0m\u001b[0;34m\"State: \"\u001b[0m \u001b[0;34m+\u001b[0m \u001b[0mservice\u001b[0m\u001b[0;34m.\u001b[0m\u001b[0mstate\u001b[0m\u001b[0;34m)\u001b[0m\u001b[0;34m\u001b[0m\u001b[0;34m\u001b[0m\u001b[0m\n",
      "\u001b[0;31mNameError\u001b[0m: name 'inference_config' is not defined"
     ]
    }
   ],
   "source": [
    "from azureml.core.model import Model\n",
    "\n",
    "service = Model.deploy(ws, \"payment-fraud-detection\", [best_automl_model], inference_config, aci_config)\n",
    "service.wait_for_deployment(True)\n",
    "print(\"State: \" + service.state)\n",
    "print(\"Scoring URI: \" + service.scoring_uri)"
   ]
  },
  {
   "cell_type": "markdown",
   "metadata": {
    "collapsed": true,
    "gather": {
     "logged": 1598431657736
    },
    "jupyter": {
     "outputs_hidden": false,
     "source_hidden": false
    },
    "nteract": {
     "transient": {
      "deleting": false
     }
    }
   },
   "source": [
    "TODO: In the cell below, send a request to the web service you deployed to test it."
   ]
  },
  {
   "cell_type": "code",
   "execution_count": null,
   "metadata": {
    "gather": {
     "logged": 1598432707604
    },
    "jupyter": {
     "outputs_hidden": false,
     "source_hidden": false
    },
    "nteract": {
     "transient": {
      "deleting": false
     }
    }
   },
   "outputs": [],
   "source": []
  },
  {
   "cell_type": "markdown",
   "metadata": {
    "collapsed": true,
    "gather": {
     "logged": 1598432765711
    },
    "jupyter": {
     "outputs_hidden": false,
     "source_hidden": false
    },
    "nteract": {
     "transient": {
      "deleting": false
     }
    }
   },
   "source": [
    "TODO: In the cell below, print the logs of the web service and delete the service"
   ]
  },
  {
   "cell_type": "code",
   "execution_count": null,
   "metadata": {
    "jupyter": {
     "outputs_hidden": false,
     "source_hidden": false
    },
    "nteract": {
     "transient": {
      "deleting": false
     }
    }
   },
   "outputs": [],
   "source": []
  }
 ],
 "metadata": {
  "kernel_info": {
   "name": "python3-azureml"
  },
  "kernelspec": {
   "display_name": "Python 3",
   "language": "python",
   "name": "python3"
  },
  "language_info": {
   "codemirror_mode": {
    "name": "ipython",
    "version": 3
   },
   "file_extension": ".py",
   "mimetype": "text/x-python",
   "name": "python",
   "nbconvert_exporter": "python",
   "pygments_lexer": "ipython3",
   "version": "3.6.9"
  },
  "nteract": {
   "version": "nteract-front-end@1.0.0"
  }
 },
 "nbformat": 4,
 "nbformat_minor": 2
}
